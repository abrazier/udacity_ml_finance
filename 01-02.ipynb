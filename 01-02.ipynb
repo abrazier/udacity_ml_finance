{
 "cells": [
  {
   "cell_type": "code",
   "execution_count": 4,
   "metadata": {},
   "outputs": [],
   "source": [
    "%matplotlib inline"
   ]
  },
  {
   "cell_type": "markdown",
   "metadata": {},
   "source": [
    "# 01-02_9"
   ]
  },
  {
   "cell_type": "code",
   "execution_count": 6,
   "metadata": {},
   "outputs": [
    {
     "name": "stdout",
     "output_type": "stream",
     "text": [
      "               SPY    GOOG     IBM     GLD\n",
      "2010-01-22  104.34  550.01  119.61  107.17\n",
      "2010-01-25  104.87  540.00  120.20  107.48\n",
      "2010-01-26  104.43  542.42  119.85  107.56\n"
     ]
    }
   ],
   "source": [
    "import pandas as pd\n",
    "import matplotlib.pyplot as plt\n",
    "\n",
    "#read in csv, plot both the close and adjusted close prices\n",
    "\"\"\"\n",
    "def test_run():\n",
    "    df = pd.read_csv(\"AAPL.csv\")\n",
    "    df[['Close', 'Adj Close']].plot()\n",
    "    plt.show()\n",
    "\"\"\"\n",
    "\n",
    "#read in csv, print head, tail, rows 10-20, max close value, and mean of volume\n",
    "\"\"\"\n",
    "def test_run():\n",
    "    df = pd.read_csv(\"AAPL.csv\")\n",
    "    print(df.head())\n",
    "    print(df.tail())\n",
    "    print(df[10:21])\n",
    "    print(df['Close'].max())\n",
    "    print(df['Volume'].mean())\n",
    "\"\"\"\n",
    "\n",
    "#declare empty df with indexes of dates\n",
    "\"\"\"\n",
    "def test_run():\n",
    "    start_date = '2010-01-22'\n",
    "    end_date = '2010-01-26'\n",
    "    dates = pd.date_range(start_date,end_date)\n",
    "    df1 = pd.DataFrame(index=dates)\n",
    "    print(df1)\n",
    "\"\"\"\n",
    "\n",
    "#join dfs\n",
    "def test_run():\n",
    "    start_date = '2010-01-22'\n",
    "    end_date = '2010-01-26'\n",
    "    dates = pd.date_range(start_date,end_date)\n",
    "\n",
    "    #declare empty df with index = dates\n",
    "    df1 = pd.DataFrame(index=dates)\n",
    "\n",
    "    #read SPY data in\n",
    "    dfSPY = pd.read_csv(\"SPY.csv\", index_col=\"Date\", parse_dates=True, usecols=['Date', 'Adj Close'], na_values=['nan'])\n",
    "    dfSPY = dfSPY.rename(columns={'Adj Close':'SPY'})\n",
    "\n",
    "    #join the empty df and SPY df using DataFrame.join() - inner to only keep records that appear in both\n",
    "    df1 = df1.join(dfSPY, how = 'inner')\n",
    "\n",
    "    symbols = ['GOOG', 'IBM', 'GLD']\n",
    "    for symbol in symbols:\n",
    "        df_temp = pd.read_csv(\"{}.csv\".format(symbol), index_col='Date', parse_dates=True, usecols = ['Date', 'Adj Close'], na_values=['nan'])\n",
    "        df_temp = df_temp.rename(columns = {'Adj Close' : symbol})\n",
    "        df1 = df1.join(df_temp)\n",
    "\n",
    "\n",
    "    print(df1)\n",
    "\n",
    "if __name__ == \"__main__\":\n",
    "    test_run()\n",
    "        "
   ]
  },
  {
   "cell_type": "markdown",
   "metadata": {},
   "source": [
    "# 01-02_14"
   ]
  },
  {
   "cell_type": "code",
   "execution_count": 7,
   "metadata": {},
   "outputs": [
    {
     "name": "stdout",
     "output_type": "stream",
     "text": [
      "               SPY    GOOG     IBM     GLD\n",
      "2010-01-22  104.34  550.01  119.61  107.17\n",
      "2010-01-25  104.87  540.00  120.20  107.48\n",
      "2010-01-26  104.43  542.42  119.85  107.56\n"
     ]
    }
   ],
   "source": [
    "import pandas as pd\n",
    "import matplotlib.pyplot as plt\n",
    "\n",
    "#read in csv, plot both the close and adjusted close prices\n",
    "\"\"\"\n",
    "def test_run():\n",
    "    df = pd.read_csv(\"AAPL.csv\")\n",
    "    df[['Close', 'Adj Close']].plot()\n",
    "    plt.show()\n",
    "\"\"\"\n",
    "\n",
    "#read in csv, print head, tail, rows 10-20, max close value, and mean of volume\n",
    "\"\"\"\n",
    "def test_run():\n",
    "    df = pd.read_csv(\"AAPL.csv\")\n",
    "    print(df.head())\n",
    "    print(df.tail())\n",
    "    print(df[10:21])\n",
    "    print(df['Close'].max())\n",
    "    print(df['Volume'].mean())\n",
    "\"\"\"\n",
    "\n",
    "#declare empty df with indexes of dates\n",
    "\"\"\"\n",
    "def test_run():\n",
    "    start_date = '2010-01-22'\n",
    "    end_date = '2010-01-26'\n",
    "    dates = pd.date_range(start_date,end_date)\n",
    "    df1 = pd.DataFrame(index=dates)\n",
    "    print(df1)\n",
    "\"\"\"\n",
    "\n",
    "#join dfs\n",
    "def test_run():\n",
    "    start_date = '2010-01-22'\n",
    "    end_date = '2010-01-26'\n",
    "    dates = pd.date_range(start_date,end_date)\n",
    "\n",
    "    #declare empty df with index = dates\n",
    "    df1 = pd.DataFrame(index=dates)\n",
    "\n",
    "    #read SPY data in\n",
    "    dfSPY = pd.read_csv(\"SPY.csv\", index_col=\"Date\", parse_dates=True, usecols=['Date', 'Adj Close'], na_values=['nan'])\n",
    "    dfSPY = dfSPY.rename(columns={'Adj Close':'SPY'})\n",
    "\n",
    "    #join the empty df and SPY df using DataFrame.join() - inner to only keep records that appear in both\n",
    "    df1 = df1.join(dfSPY, how = 'inner')\n",
    "\n",
    "    symbols = ['GOOG', 'IBM', 'GLD']\n",
    "    for symbol in symbols:\n",
    "        df_temp = pd.read_csv(\"{}.csv\".format(symbol), index_col='Date', parse_dates=True, usecols = ['Date', 'Adj Close'], na_values=['nan'])\n",
    "        df_temp = df_temp.rename(columns = {'Adj Close' : symbol})\n",
    "        df1 = df1.join(df_temp)\n",
    "\n",
    "\n",
    "    print(df1)\n",
    "\n",
    "if __name__ == \"__main__\":\n",
    "    test_run()\n",
    "        "
   ]
  },
  {
   "cell_type": "markdown",
   "metadata": {},
   "source": [
    "# 01-02_15"
   ]
  },
  {
   "cell_type": "code",
   "execution_count": 8,
   "metadata": {},
   "outputs": [
    {
     "name": "stdout",
     "output_type": "stream",
     "text": [
      "               SPY     IBM\n",
      "2010-01-04  108.27  126.24\n",
      "2010-01-05  108.56  124.71\n",
      "2010-01-06  108.64  123.90\n",
      "2010-01-07  109.10  123.47\n",
      "2010-01-08  109.46  124.71\n",
      "2010-01-11  109.61  123.41\n",
      "2010-01-12  108.59  124.39\n",
      "2010-01-13  109.51  124.12\n",
      "2010-01-14  109.80  126.10\n",
      "2010-01-15  108.57  125.60\n",
      "2010-01-19  109.93  127.85\n",
      "2010-01-20  108.81  124.14\n",
      "2010-01-21  106.72  122.95\n",
      "2010-01-22  104.34  119.61\n",
      "2010-01-25  104.87  120.20\n",
      "2010-01-26  104.43  119.85\n",
      "2010-01-27  104.93  120.40\n",
      "2010-01-28  103.73  117.94\n",
      "2010-01-29  102.60  116.65\n"
     ]
    }
   ],
   "source": [
    "import os\n",
    "import pandas as pd\n",
    "import matplotlib.pyplot as plt\n",
    "\n",
    "def get_data(symbols, dates):\n",
    "    df = pd.DataFrame(index=dates)\n",
    "    if 'SPY' not in symbols:\n",
    "        symbols.insert(0, 'SPY')\n",
    "\n",
    "    for symbol in symbols:\n",
    "        df_temp = pd.read_csv(\"{}.csv\".format(symbol), index_col='Date', parse_dates=True, usecols = ['Date', 'Adj Close'], na_values=['nan'])\n",
    "        df_temp = df_temp.rename(columns = {'Adj Close' : symbol})\n",
    "        df = df.join(df_temp)\n",
    "        if symbol == 'SPY':\n",
    "            df = df.dropna(subset=[\"SPY\"])\n",
    "\n",
    "    return df\n",
    "\n",
    "def plot_data(df):\n",
    "    df.plot()\n",
    "    plt.show()\n",
    "\n",
    "def test_run():\n",
    "    dates = pd.date_range('2010-01-01', '2010-12-31')\n",
    "    symbols = ['GOOG', 'IBM', 'GLD']\n",
    "    df = get_data(symbols, dates)\n",
    "    #print(df)\n",
    "    #print(df.loc['2010-01-01':'2010-01-31']) #slice rows between 2 dates - note df.ix is depreciated use df.loc\n",
    "    #slice by column (symbols)\n",
    "    #print(df['GOOG']) #print only one col\n",
    "    #print(df[['IBM', 'GLD']]) #print multiple cols\n",
    "    print(df.loc['2010-01-01':'2010-01-31', ['SPY', 'IBM']]) #print SPY and IBM for only jan 2010\n",
    "if __name__ == \"__main__\":\n",
    "    test_run()\n",
    "        "
   ]
  },
  {
   "cell_type": "markdown",
   "metadata": {},
   "source": [
    "# 01-02_17 and 19"
   ]
  },
  {
   "cell_type": "code",
   "execution_count": 9,
   "metadata": {},
   "outputs": [
    {
     "name": "stderr",
     "output_type": "stream",
     "text": [
      "/Library/Frameworks/Python.framework/Versions/3.6/lib/python3.6/site-packages/ipykernel_launcher.py:22: DeprecationWarning: \n",
      ".ix is deprecated. Please use\n",
      ".loc for label based indexing or\n",
      ".iloc for positional indexing\n",
      "\n",
      "See the documentation here:\n",
      "http://pandas.pydata.org/pandas-docs/stable/indexing.html#ix-indexer-is-deprecated\n"
     ]
    },
    {
     "data": {
      "image/png": "[encoded data removed]",
      "text/plain": [
       "<matplotlib.figure.Figure at 0x11cc33eb8>"
      ]
     },
     "metadata": {
      "needs_background": "light"
     },
     "output_type": "display_data"
    }
   ],
   "source": [
    "import os\n",
    "import pandas as pd\n",
    "import matplotlib.pyplot as plt\n",
    "import matplotlib.dates as mdates\n",
    "\n",
    "def get_data(symbols, dates):\n",
    "    df = pd.DataFrame(index=dates)\n",
    "    if 'SPY' not in symbols:\n",
    "        symbols.insert(0, 'SPY')\n",
    "\n",
    "    for symbol in symbols:\n",
    "        df_temp = pd.read_csv(\"{}.csv\".format(symbol), index_col='Date', parse_dates=True, usecols = ['Date', 'Adj Close'], na_values=['nan'])\n",
    "        df_temp = df_temp.rename(columns = {'Adj Close' : symbol})\n",
    "        df = df.join(df_temp)\n",
    "        if symbol == 'SPY':\n",
    "            df = df.dropna(subset=[\"SPY\"])\n",
    "\n",
    "    return df\n",
    "\n",
    "def normalize_data(df):\n",
    "    #return (df -df.mean()) / (df.max()- df.min())\n",
    "    return df / df.ix[0,:]\n",
    "\n",
    "def plot_data(df):\n",
    "    ax = df.plot(title=\"Stock Prices\", fontsize=12)\n",
    "    ax.set(xlabel=\"Date\", ylabel = \"Price\")\n",
    "    myFmt = mdates.DateFormatter(\"%m/%y\")\n",
    "    ax.xaxis.set_major_formatter(myFmt)\n",
    "    plt.show()\n",
    "\n",
    "def test_run():\n",
    "    dates = pd.date_range('2010-01-01', '2010-12-31')\n",
    "    symbols = ['GOOG', 'IBM', 'GLD']\n",
    "    df = get_data(symbols, dates)\n",
    "    df = normalize_data(df)\n",
    "    #print(df)\n",
    "    #print(df.loc['2010-01-01':'2010-01-31']) #slice rows between 2 dates - note df.ix is depreciated use df.loc\n",
    "    #slice by column (symbols)\n",
    "    #print(df['GOOG']) #print only one col\n",
    "    #print(df[['IBM', 'GLD']]) #print multiple cols\n",
    "    #print(df.loc['2010-01-01':'2010-01-31', ['SPY', 'IBM']]) #print SPY and IBM for only jan 2010\n",
    "    #df = df.loc['2010-03-01':'2010-04-01', ['SPY', 'IBM']] #select SPY and IBM for only march 2010 and then plot\n",
    "    plot_data(df)\n",
    "    \n",
    "    \n",
    "if __name__ == \"__main__\":\n",
    "    test_run()\n",
    "        "
   ]
  },
  {
   "cell_type": "code",
   "execution_count": null,
   "metadata": {},
   "outputs": [],
   "source": []
  }
 ],
 "metadata": {
  "kernelspec": {
   "display_name": "Python 3",
   "language": "python",
   "name": "python3"
  },
  "language_info": {
   "codemirror_mode": {
    "name": "ipython",
    "version": 3
   },
   "file_extension": ".py",
   "mimetype": "text/x-python",
   "name": "python",
   "nbconvert_exporter": "python",
   "pygments_lexer": "ipython3",
   "version": "3.6.5"
  }
 },
 "nbformat": 4,
 "nbformat_minor": 2
}
