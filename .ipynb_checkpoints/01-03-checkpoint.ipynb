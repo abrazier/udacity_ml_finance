{
 "cells": [
  {
   "cell_type": "code",
   "execution_count": 1,
   "metadata": {},
   "outputs": [],
   "source": [
    "%matplotlib inline"
   ]
  },
  {
   "cell_type": "markdown",
   "metadata": {},
   "source": [
    "# 01-03_6"
   ]
  },
  {
   "cell_type": "code",
   "execution_count": 2,
   "metadata": {},
   "outputs": [
    {
     "name": "stdout",
     "output_type": "stream",
     "text": [
      "[[2 3 4]]\n",
      "[[2 3 4]\n",
      " [5 6 7]]\n"
     ]
    }
   ],
   "source": [
    "import numpy as np\n",
    "\n",
    "def test_run():\n",
    "    x = np.array([(2,3,4)]) #1d array\n",
    "    y = np.array([(2,3,4),(5,6,7)]) #2d array\n",
    "    print(x)\n",
    "    print(y)\n",
    "\n",
    "if __name__ == \"__main__\":\n",
    "    test_run()"
   ]
  },
  {
   "cell_type": "markdown",
   "metadata": {},
   "source": [
    "# 01-03_7"
   ]
  },
  {
   "cell_type": "code",
   "execution_count": 12,
   "metadata": {},
   "outputs": [
    {
     "name": "stdout",
     "output_type": "stream",
     "text": [
      "[[1 1 1 1]\n",
      " [1 1 1 1]\n",
      " [1 1 1 1]\n",
      " [1 1 1 1]\n",
      " [1 1 1 1]]\n"
     ]
    }
   ],
   "source": [
    "import numpy as np\n",
    "\n",
    "def test_run():\n",
    "    print(np.ones((5,4), dtype=np.int_))\n",
    "    \n",
    "if __name__ == \"__main__\":\n",
    "    test_run()"
   ]
  },
  {
   "cell_type": "markdown",
   "metadata": {},
   "source": [
    "# 01-03_9"
   ]
  },
  {
   "cell_type": "code",
   "execution_count": 19,
   "metadata": {},
   "outputs": [
    {
     "name": "stdout",
     "output_type": "stream",
     "text": [
      "[[0.14593814 0.88242945 0.5362681  0.66918726]\n",
      " [0.98996544 0.32373113 0.21383734 0.17410177]\n",
      " [0.07363237 0.39531794 0.97931721 0.11632515]\n",
      " [0.86269979 0.20900506 0.57269185 0.68658462]\n",
      " [0.83322463 0.30243491 0.64281425 0.97971903]]\n",
      "[[-0.4033092   0.33105755 -1.02760726]\n",
      " [-0.63658768  0.45196607 -0.52882886]]\n"
     ]
    }
   ],
   "source": [
    "import numpy as np\n",
    "\n",
    "def test_run():\n",
    "    print(np.random.random((5,4)))\n",
    "    print(np.random.normal(size=(2,3)))\n",
    "    \n",
    "if __name__ == \"__main__\":\n",
    "    test_run()"
   ]
  },
  {
   "cell_type": "markdown",
   "metadata": {},
   "source": [
    "# 01-03_10"
   ]
  },
  {
   "cell_type": "code",
   "execution_count": 8,
   "metadata": {},
   "outputs": [
    {
     "name": "stdout",
     "output_type": "stream",
     "text": [
      "[[0.65399324 0.98089014 0.6670436  0.68049342]\n",
      " [0.09856272 0.56663741 0.98891352 0.45306685]\n",
      " [0.87979165 0.75785047 0.24817023 0.65107673]\n",
      " [0.39943185 0.90656164 0.20312837 0.21884764]\n",
      " [0.52996945 0.06769745 0.33542689 0.3395737 ]]\n",
      "(5, 4)\n",
      "5\n",
      "4\n",
      "2\n",
      "20\n",
      "float64\n"
     ]
    }
   ],
   "source": [
    "import numpy as np\n",
    "\n",
    "def test_run():\n",
    "    a = np.random.random((5,4))\n",
    "    print(a)\n",
    "    print(a.shape)\n",
    "    print(a.shape[0])\n",
    "    print(a.shape[1])\n",
    "    print(len(a.shape))\n",
    "    print(a.size)\n",
    "    print(a.dtype)\n",
    "    \n",
    "if __name__ == \"__main__\":\n",
    "    test_run()"
   ]
  },
  {
   "cell_type": "markdown",
   "metadata": {},
   "source": [
    "# 01-03_11"
   ]
  },
  {
   "cell_type": "code",
   "execution_count": 18,
   "metadata": {},
   "outputs": [
    {
     "name": "stdout",
     "output_type": "stream",
     "text": [
      "Array:\n",
      " [[2 0 5 1]\n",
      " [1 3 4 4]\n",
      " [9 2 9 1]\n",
      " [9 3 7 5]\n",
      " [4 7 0 3]]\n",
      "Sum of all elements:  79\n",
      "Sum of each column:  [25 15 25 14]\n",
      "Sum of each row:  [ 8 12 21 24 14]\n",
      "Minimum of each column:  [1 0 0 1]\n",
      "Maximum of each row:  [5 4 9 9 7]\n",
      "Mean of all elements:  3.95\n"
     ]
    }
   ],
   "source": [
    "import numpy as np\n",
    "\n",
    "def test_run():\n",
    "    np.random.seed(693)\n",
    "    a = np.random.randint(0,10, size=(5,4))\n",
    "    print(\"Array:\\n\", a)\n",
    "    print(\"Sum of all elements: \", a.sum())\n",
    "    print(\"Sum of each column: \", a.sum(axis=0))\n",
    "    print(\"Sum of each row: \", a.sum(axis=1))\n",
    "    print(\"Minimum of each column: \", a.min(axis=0))        \n",
    "    print(\"Maximum of each row: \", a.max(axis=1))  \n",
    "    print(\"Mean of all elements: \", a.mean())  \n",
    "    \n",
    "    \n",
    "    \n",
    "if __name__ == \"__main__\":\n",
    "    test_run()"
   ]
  },
  {
   "cell_type": "markdown",
   "metadata": {
    "toc-hr-collapsed": false
   },
   "source": [
    "# 01-03_13"
   ]
  },
  {
   "cell_type": "code",
   "execution_count": 20,
   "metadata": {},
   "outputs": [
    {
     "name": "stdout",
     "output_type": "stream",
     "text": [
      "ML4T\n",
      "The time taken by the print statement is 7.033348083496094e-05  seconds\n"
     ]
    }
   ],
   "source": [
    "import time\n",
    "import numpy as np\n",
    "\n",
    "def test_run():\n",
    "    t1 = time.time()\n",
    "    print(\"ML4T\")\n",
    "    t2 = time.time()\n",
    "    print(\"The time taken by the print statement is\", t2 - t1, \" seconds\")\n",
    "    \n",
    "    \n",
    "    \n",
    "if __name__ == \"__main__\":\n",
    "    test_run()"
   ]
  },
  {
   "cell_type": "markdown",
   "metadata": {},
   "source": [
    "# 01-03_15"
   ]
  },
  {
   "cell_type": "code",
   "execution_count": 26,
   "metadata": {},
   "outputs": [
    {
     "name": "stdout",
     "output_type": "stream",
     "text": [
      "Array:\n",
      " [[0.89069703 0.02150696 0.64708838 0.7698965 ]\n",
      " [0.30164914 0.89814836 0.66131866 0.48146885]\n",
      " [0.5483519  0.36432737 0.92344833 0.90806181]\n",
      " [0.42703277 0.82115064 0.89385338 0.04992084]\n",
      " [0.51226014 0.45752905 0.98503736 0.43623981]]\n",
      "0.8938533812431938\n",
      "[0.02150696 0.64708838]\n",
      "[[0.89069703 0.02150696]\n",
      " [0.30164914 0.89814836]]\n",
      "[[0.89069703 0.64708838]\n",
      " [0.30164914 0.66131866]\n",
      " [0.5483519  0.92344833]\n",
      " [0.42703277 0.89385338]\n",
      " [0.51226014 0.98503736]]\n"
     ]
    }
   ],
   "source": [
    "import numpy as np\n",
    "\n",
    "def test_run():\n",
    "    a = np.random.rand(5,4)\n",
    "    print(\"Array:\\n\", a)\n",
    "    \n",
    "    element = a[3,2]\n",
    "    print(element)\n",
    "    \n",
    "    print(a[0,1:3])\n",
    "    print(a[0:2,0:2])\n",
    "    print(a[:,0:3:2])\n",
    "    \n",
    "    \n",
    "if __name__ == \"__main__\":\n",
    "    test_run()"
   ]
  },
  {
   "cell_type": "markdown",
   "metadata": {},
   "source": [
    "# 01-03_16"
   ]
  },
  {
   "cell_type": "code",
   "execution_count": 34,
   "metadata": {},
   "outputs": [
    {
     "name": "stdout",
     "output_type": "stream",
     "text": [
      "Array:\n",
      " [[0.11814791 0.84030607 0.07553637 0.58614074]\n",
      " [0.59835773 0.83043358 0.75076269 0.95055117]\n",
      " [0.63643792 0.81801152 0.47261619 0.53699651]\n",
      " [0.5408923  0.69649196 0.89112555 0.34330453]\n",
      " [0.87336551 0.0273596  0.60719079 0.85376483]]\n",
      "\n",
      "modified (replaced a column with list):\n",
      " [[0.11814791 0.84030607 0.07553637 1.        ]\n",
      " [0.59835773 0.83043358 0.75076269 2.        ]\n",
      " [0.63643792 0.81801152 0.47261619 3.        ]\n",
      " [0.5408923  0.69649196 0.89112555 4.        ]\n",
      " [0.87336551 0.0273596  0.60719079 5.        ]]\n"
     ]
    }
   ],
   "source": [
    "import numpy as np\n",
    "\n",
    "def test_run():\n",
    "    a = np.random.rand(5,4)\n",
    "    print(\"Array:\\n\", a)\n",
    "    \n",
    "    \"\"\"a[0,0] = 1\n",
    "    print(\"\\nmodified (replaced one element):\\n\", a)\n",
    "    \n",
    "    a[0,:] = 2\n",
    "    print(\"\\nmodified (replaced a row with a single value):\\n\", a)    \n",
    "    \n",
    "    a[:,1] = 2\n",
    "    print(\"\\nmodified (replaced a column with a single value):\\n\", a) \"\"\"\n",
    "    \n",
    "    a[:, 3] = [1,2,3,4,5]\n",
    "    print(\"\\nmodified (replaced a column with list):\\n\", a)  \n",
    "\n",
    "\n",
    "if __name__ == \"__main__\":\n",
    "    test_run()"
   ]
  },
  {
   "cell_type": "markdown",
   "metadata": {},
   "source": [
    "# 01-03_17"
   ]
  },
  {
   "cell_type": "code",
   "execution_count": 36,
   "metadata": {},
   "outputs": [
    {
     "name": "stdout",
     "output_type": "stream",
     "text": [
      "[0.82204461 0.92555613 0.23630744 0.43719997 0.81071398]\n",
      "[0.92555613 0.92555613 0.23630744 0.43719997]\n"
     ]
    }
   ],
   "source": [
    "import numpy as np\n",
    "\n",
    "def test_run():\n",
    "    a = np.random.rand(5)\n",
    "    print(a)\n",
    "    indices = np.array([1,1,2,3])\n",
    "    print(a[indices])\n",
    "\n",
    "    \n",
    "\n",
    "\n",
    "if __name__ == \"__main__\":\n",
    "    test_run()"
   ]
  },
  {
   "cell_type": "markdown",
   "metadata": {},
   "source": [
    "# 01-03_18"
   ]
  },
  {
   "cell_type": "code",
   "execution_count": 41,
   "metadata": {},
   "outputs": [
    {
     "name": "stdout",
     "output_type": "stream",
     "text": [
      "[[20 25 10 23 26 32 10  5  0]\n",
      " [ 0  2 50 20  0  1 28  5  0]]\n",
      "14.277777777777779\n",
      "[10 10  5  0  0  2  0  1  5  0]\n",
      "[[20 25 14 23 26 32 14 14 14]\n",
      " [14 14 50 20 14 14 28 14 14]]\n"
     ]
    }
   ],
   "source": [
    "import numpy as np\n",
    "\n",
    "def test_run():\n",
    "    a = np.array([(20,25,10,23,26,32,10,5,0),(0,2,50,20,0,1,28,5,0)])\n",
    "    print(a)\n",
    "\n",
    "    mean = a.mean()\n",
    "    print(mean)\n",
    "\n",
    "    print(a[a<mean])\n",
    "    \n",
    "    a[a<mean] = mean\n",
    "    print(a)\n",
    "\n",
    "if __name__ == \"__main__\":\n",
    "    test_run()"
   ]
  },
  {
   "cell_type": "markdown",
   "metadata": {},
   "source": [
    "# 01-03_19"
   ]
  },
  {
   "cell_type": "code",
   "execution_count": 56,
   "metadata": {},
   "outputs": [
    {
     "name": "stdout",
     "output_type": "stream",
     "text": [
      "Original array a:\n",
      " [[ 1  2  3  4  5]\n",
      " [10 20 30 40 50]]\n",
      "\n",
      "Original array b:\n",
      " [[100 200 300 400 500]\n",
      " [  1   2   3   4   5]]\n",
      "\n",
      "Multiply a by 2:\n",
      " [[  2   4   6   8  10]\n",
      " [ 20  40  60  80 100]]\n",
      "\n",
      "Divide a by 2:\n",
      " [[ 0.5  1.   1.5  2.   2.5]\n",
      " [ 5.  10.  15.  20.  25. ]]\n",
      "\n",
      "Divide a by 2:\n",
      " [[ 0.5  1.   1.5  2.   2.5]\n",
      " [ 5.  10.  15.  20.  25. ]]\n",
      "\n",
      "Add a + b\n",
      " [[101 202 303 404 505]\n",
      " [ 11  22  33  44  55]]\n",
      "\n",
      "Add a - b\n",
      " [[ -99 -198 -297 -396 -495]\n",
      " [   9   18   27   36   45]]\n",
      "\n",
      "Add a * b\n",
      " [[ 100  400  900 1600 2500]\n",
      " [  10   40   90  160  250]]\n",
      "\n",
      "Add a / b\n",
      " [[ 0.01  0.01  0.01  0.01  0.01]\n",
      " [10.   10.   10.   10.   10.  ]]\n"
     ]
    }
   ],
   "source": [
    "import numpy as np\n",
    "\n",
    "def test_run():\n",
    "    a = np.array([(1,2,3,4,5), (10,20,30,40,50)])\n",
    "    b = np.array([(100,200,300,400,500), (1,2,3,4,5)])\n",
    "    print(\"Original array a:\\n\", a)\n",
    "    print(\"\\nOriginal array b:\\n\", b)   \n",
    "    print(\"\\nMultiply a by 2:\\n\", 2 * a)\n",
    "    print(\"\\nDivide a by 2:\\n\", a / 2)\n",
    "    print(\"\\nDivide a by 2:\\n\", a / 2.0)\n",
    "    print(\"\\nAdd a + b\\n\", a+b)\n",
    "    print(\"\\nAdd a - b\\n\", a-b)\n",
    "    print(\"\\nAdd a * b\\n\", a*b)\n",
    "    print(\"\\nAdd a / b\\n\", a/b)\n",
    "\n",
    "\n",
    "if __name__ == \"__main__\":\n",
    "    test_run()"
   ]
  },
  {
   "cell_type": "code",
   "execution_count": null,
   "metadata": {},
   "outputs": [],
   "source": []
  }
 ],
 "metadata": {
  "kernelspec": {
   "display_name": "Python 3",
   "language": "python",
   "name": "python3"
  },
  "language_info": {
   "codemirror_mode": {
    "name": "ipython",
    "version": 3
   },
   "file_extension": ".py",
   "mimetype": "text/x-python",
   "name": "python",
   "nbconvert_exporter": "python",
   "pygments_lexer": "ipython3",
   "version": "3.6.5"
  }
 },
 "nbformat": 4,
 "nbformat_minor": 2
}
