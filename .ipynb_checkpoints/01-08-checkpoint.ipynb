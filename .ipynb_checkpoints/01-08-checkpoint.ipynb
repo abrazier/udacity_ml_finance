{
 "cells": [
  {
   "cell_type": "code",
   "execution_count": 29,
   "metadata": {},
   "outputs": [
    {
     "name": "stdout",
     "output_type": "stream",
     "text": [
      "X = [2.], Y=[0.75]\n",
      "X = [2.], Y=[0.75]\n",
      "X = [2.00000001], Y=[0.75000001]\n",
      "X = [0.99999999], Y=[0.75000001]\n",
      "X = [1.5], Y=[0.5]\n",
      "X = [1.5], Y=[0.5]\n",
      "X = [1.50000001], Y=[0.5]\n",
      "Optimization terminated successfully.    (Exit mode 0)\n",
      "            Current function value: 0.5\n",
      "            Iterations: 2\n",
      "            Function evaluations: 7\n",
      "            Gradient evaluations: 2\n",
      "Minima found at:\n",
      "X = [1.5], Y = 0.5\n",
      "X = [0.5 0.6 0.7 0.8 0.9 1.  1.1 1.2 1.3 1.4 1.5 1.6 1.7 1.8 1.9 2.  2.1 2.2\n",
      " 2.3 2.4 2.5], Y=[1.5  1.31 1.14 0.99 0.86 0.75 0.66 0.59 0.54 0.51 0.5  0.51 0.54 0.59\n",
      " 0.66 0.75 0.86 0.99 1.14 1.31 1.5 ]\n"
     ]
    },
    {
     "data": {
      "image/png": "[encoded data removed]",
      "text/plain": [
       "<matplotlib.figure.Figure at 0x11e8539b0>"
      ]
     },
     "metadata": {
      "needs_background": "light"
     },
     "output_type": "display_data"
    }
   ],
   "source": [
    "import pandas as pd\n",
    "import matplotlib.pyplot as plt\n",
    "import numpy as np\n",
    "import scipy.optimize as spo\n",
    "\n",
    "def f(X):\n",
    "    #Given a scalar X, return some value (a real number)\n",
    "    Y = (X - 1.5)**2 + 0.5\n",
    "    print(\"X = {}, Y={}\".format(X,Y))\n",
    "    return Y\n",
    "\n",
    "def test_run():\n",
    "    Xguess = 2.0\n",
    "    min_result = spo.minimize(f, Xguess, method='SLSQP', options={'disp': True})\n",
    "    print(\"Minima found at:\")\n",
    "    print(\"X = {}, Y = {}\".format(min_result.x, min_result.fun))\n",
    "    \n",
    "    Xplot = np.linspace(0.5, 2.5, 21)\n",
    "    Yplot = f(Xplot)\n",
    "    plt.plot(Xplot, Yplot)\n",
    "    plt.plot(min_result.x, min_result.fun, 'ro')\n",
    "    plt.title(\"Minima of an objective function\")\n",
    "    plt.show()\n",
    "\n",
    "if __name__ == \"__main__\":\n",
    "    test_run()"
   ]
  },
  {
   "cell_type": "code",
   "execution_count": 39,
   "metadata": {},
   "outputs": [
    {
     "name": "stdout",
     "output_type": "stream",
     "text": [
      "Original line: C0 = 4.0, C1 = 2.0\n",
      "Optimization terminated successfully.    (Exit mode 0)\n",
      "            Current function value: 256.4031781895678\n",
      "            Iterations: 5\n",
      "            Function evaluations: 24\n",
      "            Gradient evaluations: 5\n",
      "Fitted line: C0 = 3.9849820060098775, C1 = 2.1722434333078526\n"
     ]
    },
    {
     "data": {
      "image/png": "[encoded data removed]",
      "text/plain": [
       "<matplotlib.figure.Figure at 0x11e76cc18>"
      ]
     },
     "metadata": {
      "needs_background": "light"
     },
     "output_type": "display_data"
    }
   ],
   "source": [
    "import pandas as pd\n",
    "import matplotlib.pyplot as plt\n",
    "import numpy as np\n",
    "import scipy.optimize as spo\n",
    "\n",
    "def fit_line(data, error_func):\n",
    "    l = np.float32([0, np.mean(data[:,1])])\n",
    "    \n",
    "    x_ends = np.float32([-5, 5])\n",
    "    plt.plot(x_ends, l[0] * x_ends + l[1], 'm--', linewidth=2.0, label=\"Initial guess\")\n",
    "    \n",
    "    result = spo.minimize(error_func, l, args=(data,), method='SLSQP', options={'disp' : True})\n",
    "    return result.x\n",
    "    \n",
    "    \n",
    "def error(line, data):\n",
    "    #compute error between given line model and observed data\n",
    "    #line: tuple, list, array (C0,C1) where C0 is slow and C1 is y-intercept\n",
    "    #data: 2D array where each row is at point (x,y)\n",
    "    #returns error as a single real value\n",
    "    \n",
    "    #Metric: sum of squared Y-axis differences\n",
    "    err = np.sum((data[:,1] - (line[0] * data[:,0] + line[1]))**2)\n",
    "    return err\n",
    "\n",
    "def test_run():\n",
    "    l_orig = np.float32([4,2])\n",
    "    print(\"Original line: C0 = {}, C1 = {}\".format(l_orig[0], l_orig[1]))\n",
    "    Xorig = np.linspace(0,10,21)\n",
    "    Yorig = l_orig[0] * Xorig + l_orig[1]\n",
    "    plt.plot(Xorig, Yorig, 'b--', linewidth=2.0, label=\"Original line\")\n",
    "    \n",
    "    #Generate noisy data points\n",
    "    noise_sigma = 3.0\n",
    "    noise = np.random.normal(0, noise_sigma, Yorig.shape)\n",
    "    data = np.asarray([Xorig, Yorig + noise]).T\n",
    "    plt.plot(data[:,0], data[:,1], 'go', label = \"Data points\")\n",
    "    \n",
    "    l_fit = fit_line(data, error)\n",
    "    print(\"Fitted line: C0 = {}, C1 = {}\".format(l_fit[0], l_fit[1]))\n",
    "    plt.plot(data[:,0], l_fit[0] * data[:,0] + l_fit[1], 'r--', linewidth = 2.0, label = \"\")\n",
    "    \n",
    "if __name__ == \"__main__\":\n",
    "    test_run()"
   ]
  },
  {
   "cell_type": "code",
   "execution_count": null,
   "metadata": {},
   "outputs": [],
   "source": []
  }
 ],
 "metadata": {
  "kernelspec": {
   "display_name": "Python 3",
   "language": "python",
   "name": "python3"
  },
  "language_info": {
   "codemirror_mode": {
    "name": "ipython",
    "version": 3
   },
   "file_extension": ".py",
   "mimetype": "text/x-python",
   "name": "python",
   "nbconvert_exporter": "python",
   "pygments_lexer": "ipython3",
   "version": "3.6.5"
  }
 },
 "nbformat": 4,
 "nbformat_minor": 2
}
